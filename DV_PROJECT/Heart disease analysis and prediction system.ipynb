{
 "cells": [
  {
   "cell_type": "markdown",
   "metadata": {},
   "source": [
    "# Heart disease analysis and prediction system"
   ]
  },
  {
   "cell_type": "markdown",
   "metadata": {},
   "source": [
    "#### Importing Data form heart.csv"
   ]
  },
  {
   "cell_type": "code",
   "execution_count": 9,
   "metadata": {},
   "outputs": [
    {
     "data": {
      "text/html": [
       "<div>\n",
       "<style scoped>\n",
       "    .dataframe tbody tr th:only-of-type {\n",
       "        vertical-align: middle;\n",
       "    }\n",
       "\n",
       "    .dataframe tbody tr th {\n",
       "        vertical-align: top;\n",
       "    }\n",
       "\n",
       "    .dataframe thead th {\n",
       "        text-align: right;\n",
       "    }\n",
       "</style>\n",
       "<table border=\"1\" class=\"dataframe\">\n",
       "  <thead>\n",
       "    <tr style=\"text-align: right;\">\n",
       "      <th></th>\n",
       "      <th>Age</th>\n",
       "      <th>Sex</th>\n",
       "      <th>ChestPain</th>\n",
       "      <th>RestBP</th>\n",
       "      <th>Chol</th>\n",
       "      <th>Fbs</th>\n",
       "      <th>RestECG</th>\n",
       "      <th>MaxHR</th>\n",
       "      <th>ExAng</th>\n",
       "      <th>Oldpeak</th>\n",
       "      <th>Slope</th>\n",
       "      <th>Ca</th>\n",
       "      <th>Thal</th>\n",
       "      <th>Target</th>\n",
       "    </tr>\n",
       "  </thead>\n",
       "  <tbody>\n",
       "    <tr>\n",
       "      <th>0</th>\n",
       "      <td>63</td>\n",
       "      <td>1</td>\n",
       "      <td>typical</td>\n",
       "      <td>145</td>\n",
       "      <td>233</td>\n",
       "      <td>1</td>\n",
       "      <td>2</td>\n",
       "      <td>150</td>\n",
       "      <td>0</td>\n",
       "      <td>2.3</td>\n",
       "      <td>3</td>\n",
       "      <td>0</td>\n",
       "      <td>fixed</td>\n",
       "      <td>0</td>\n",
       "    </tr>\n",
       "    <tr>\n",
       "      <th>1</th>\n",
       "      <td>67</td>\n",
       "      <td>1</td>\n",
       "      <td>asymptomatic</td>\n",
       "      <td>160</td>\n",
       "      <td>286</td>\n",
       "      <td>0</td>\n",
       "      <td>2</td>\n",
       "      <td>108</td>\n",
       "      <td>1</td>\n",
       "      <td>1.5</td>\n",
       "      <td>2</td>\n",
       "      <td>3</td>\n",
       "      <td>normal</td>\n",
       "      <td>1</td>\n",
       "    </tr>\n",
       "    <tr>\n",
       "      <th>2</th>\n",
       "      <td>67</td>\n",
       "      <td>1</td>\n",
       "      <td>asymptomatic</td>\n",
       "      <td>120</td>\n",
       "      <td>229</td>\n",
       "      <td>0</td>\n",
       "      <td>2</td>\n",
       "      <td>129</td>\n",
       "      <td>1</td>\n",
       "      <td>2.6</td>\n",
       "      <td>2</td>\n",
       "      <td>2</td>\n",
       "      <td>reversable</td>\n",
       "      <td>1</td>\n",
       "    </tr>\n",
       "    <tr>\n",
       "      <th>3</th>\n",
       "      <td>37</td>\n",
       "      <td>1</td>\n",
       "      <td>nonanginal</td>\n",
       "      <td>130</td>\n",
       "      <td>250</td>\n",
       "      <td>0</td>\n",
       "      <td>0</td>\n",
       "      <td>187</td>\n",
       "      <td>0</td>\n",
       "      <td>3.5</td>\n",
       "      <td>3</td>\n",
       "      <td>0</td>\n",
       "      <td>normal</td>\n",
       "      <td>0</td>\n",
       "    </tr>\n",
       "    <tr>\n",
       "      <th>4</th>\n",
       "      <td>41</td>\n",
       "      <td>0</td>\n",
       "      <td>nontypical</td>\n",
       "      <td>130</td>\n",
       "      <td>204</td>\n",
       "      <td>0</td>\n",
       "      <td>2</td>\n",
       "      <td>172</td>\n",
       "      <td>0</td>\n",
       "      <td>1.4</td>\n",
       "      <td>1</td>\n",
       "      <td>0</td>\n",
       "      <td>normal</td>\n",
       "      <td>0</td>\n",
       "    </tr>\n",
       "  </tbody>\n",
       "</table>\n",
       "</div>"
      ],
      "text/plain": [
       "   Age  Sex     ChestPain  RestBP  Chol  Fbs  RestECG  MaxHR  ExAng  Oldpeak  \\\n",
       "0   63    1       typical     145   233    1        2    150      0      2.3   \n",
       "1   67    1  asymptomatic     160   286    0        2    108      1      1.5   \n",
       "2   67    1  asymptomatic     120   229    0        2    129      1      2.6   \n",
       "3   37    1    nonanginal     130   250    0        0    187      0      3.5   \n",
       "4   41    0    nontypical     130   204    0        2    172      0      1.4   \n",
       "\n",
       "   Slope  Ca        Thal  Target  \n",
       "0      3   0       fixed       0  \n",
       "1      2   3      normal       1  \n",
       "2      2   2  reversable       1  \n",
       "3      3   0      normal       0  \n",
       "4      1   0      normal       0  "
      ]
     },
     "execution_count": 9,
     "metadata": {},
     "output_type": "execute_result"
    }
   ],
   "source": [
    "import pandas as pd\n",
    "import numpy as np\n",
    "import matplotlib.pyplot as plt\n",
    "from sklearn.cluster import KMeans\n",
    "import warnings\n",
    "df=pd.read_csv('C:/Users/Dell/Desktop/HeartHealthPrediction-master/heart.csv')\n",
    "df.head()"
   ]
  },
  {
   "cell_type": "markdown",
   "metadata": {},
   "source": [
    "# Data Cleansing "
   ]
  },
  {
   "cell_type": "markdown",
   "metadata": {},
   "source": [
    "#### Listing Null Values form data"
   ]
  },
  {
   "cell_type": "code",
   "execution_count": 10,
   "metadata": {},
   "outputs": [
    {
     "name": "stdout",
     "output_type": "stream",
     "text": [
      "Age          0\n",
      "Sex          0\n",
      "ChestPain    0\n",
      "RestBP       0\n",
      "Chol         0\n",
      "Fbs          0\n",
      "RestECG      0\n",
      "MaxHR        0\n",
      "ExAng        0\n",
      "Oldpeak      0\n",
      "Slope        0\n",
      "Ca           0\n",
      "Thal         2\n",
      "Target       0\n",
      "dtype: int64\n"
     ]
    }
   ],
   "source": [
    "print(df.isnull().sum())"
   ]
  },
  {
   "cell_type": "markdown",
   "metadata": {},
   "source": [
    "##### Droping Null values because Null values are very less as compared to data size"
   ]
  },
  {
   "cell_type": "code",
   "execution_count": 11,
   "metadata": {},
   "outputs": [],
   "source": [
    "df=df.dropna()"
   ]
  },
  {
   "cell_type": "markdown",
   "metadata": {},
   "source": [
    "# Data Visualization "
   ]
  },
  {
   "cell_type": "markdown",
   "metadata": {},
   "source": [
    "##### Give the info of Data Type"
   ]
  },
  {
   "cell_type": "code",
   "execution_count": 12,
   "metadata": {},
   "outputs": [
    {
     "name": "stdout",
     "output_type": "stream",
     "text": [
      "<class 'pandas.core.frame.DataFrame'>\n",
      "Int64Index: 301 entries, 0 to 302\n",
      "Data columns (total 14 columns):\n",
      " #   Column     Non-Null Count  Dtype  \n",
      "---  ------     --------------  -----  \n",
      " 0   Age        301 non-null    int64  \n",
      " 1   Sex        301 non-null    int64  \n",
      " 2   ChestPain  301 non-null    object \n",
      " 3   RestBP     301 non-null    int64  \n",
      " 4   Chol       301 non-null    int64  \n",
      " 5   Fbs        301 non-null    int64  \n",
      " 6   RestECG    301 non-null    int64  \n",
      " 7   MaxHR      301 non-null    int64  \n",
      " 8   ExAng      301 non-null    int64  \n",
      " 9   Oldpeak    301 non-null    float64\n",
      " 10  Slope      301 non-null    int64  \n",
      " 11  Ca         301 non-null    int64  \n",
      " 12  Thal       301 non-null    object \n",
      " 13  Target     301 non-null    int64  \n",
      "dtypes: float64(1), int64(11), object(2)\n",
      "memory usage: 35.3+ KB\n"
     ]
    }
   ],
   "source": [
    "df.info()"
   ]
  },
  {
   "cell_type": "markdown",
   "metadata": {},
   "source": [
    "##### Describing the wohle Data"
   ]
  },
  {
   "cell_type": "code",
   "execution_count": 13,
   "metadata": {},
   "outputs": [
    {
     "data": {
      "text/html": [
       "<div>\n",
       "<style scoped>\n",
       "    .dataframe tbody tr th:only-of-type {\n",
       "        vertical-align: middle;\n",
       "    }\n",
       "\n",
       "    .dataframe tbody tr th {\n",
       "        vertical-align: top;\n",
       "    }\n",
       "\n",
       "    .dataframe thead th {\n",
       "        text-align: right;\n",
       "    }\n",
       "</style>\n",
       "<table border=\"1\" class=\"dataframe\">\n",
       "  <thead>\n",
       "    <tr style=\"text-align: right;\">\n",
       "      <th></th>\n",
       "      <th>Age</th>\n",
       "      <th>Sex</th>\n",
       "      <th>RestBP</th>\n",
       "      <th>Chol</th>\n",
       "      <th>Fbs</th>\n",
       "      <th>RestECG</th>\n",
       "      <th>MaxHR</th>\n",
       "      <th>ExAng</th>\n",
       "      <th>Oldpeak</th>\n",
       "      <th>Slope</th>\n",
       "      <th>Ca</th>\n",
       "      <th>Target</th>\n",
       "    </tr>\n",
       "  </thead>\n",
       "  <tbody>\n",
       "    <tr>\n",
       "      <th>count</th>\n",
       "      <td>301.000000</td>\n",
       "      <td>301.000000</td>\n",
       "      <td>301.000000</td>\n",
       "      <td>301.000000</td>\n",
       "      <td>301.000000</td>\n",
       "      <td>301.000000</td>\n",
       "      <td>301.000000</td>\n",
       "      <td>301.000000</td>\n",
       "      <td>301.000000</td>\n",
       "      <td>301.000000</td>\n",
       "      <td>301.00000</td>\n",
       "      <td>301.000000</td>\n",
       "    </tr>\n",
       "    <tr>\n",
       "      <th>mean</th>\n",
       "      <td>54.451827</td>\n",
       "      <td>0.681063</td>\n",
       "      <td>131.714286</td>\n",
       "      <td>246.936877</td>\n",
       "      <td>0.146179</td>\n",
       "      <td>0.990033</td>\n",
       "      <td>149.700997</td>\n",
       "      <td>0.325581</td>\n",
       "      <td>1.043189</td>\n",
       "      <td>1.601329</td>\n",
       "      <td>0.69103</td>\n",
       "      <td>0.458472</td>\n",
       "    </tr>\n",
       "    <tr>\n",
       "      <th>std</th>\n",
       "      <td>9.067258</td>\n",
       "      <td>0.466841</td>\n",
       "      <td>17.655729</td>\n",
       "      <td>51.859869</td>\n",
       "      <td>0.353874</td>\n",
       "      <td>0.994937</td>\n",
       "      <td>22.860817</td>\n",
       "      <td>0.469372</td>\n",
       "      <td>1.163384</td>\n",
       "      <td>0.616872</td>\n",
       "      <td>0.94915</td>\n",
       "      <td>0.499102</td>\n",
       "    </tr>\n",
       "    <tr>\n",
       "      <th>min</th>\n",
       "      <td>29.000000</td>\n",
       "      <td>0.000000</td>\n",
       "      <td>94.000000</td>\n",
       "      <td>126.000000</td>\n",
       "      <td>0.000000</td>\n",
       "      <td>0.000000</td>\n",
       "      <td>71.000000</td>\n",
       "      <td>0.000000</td>\n",
       "      <td>0.000000</td>\n",
       "      <td>1.000000</td>\n",
       "      <td>0.00000</td>\n",
       "      <td>0.000000</td>\n",
       "    </tr>\n",
       "    <tr>\n",
       "      <th>25%</th>\n",
       "      <td>48.000000</td>\n",
       "      <td>0.000000</td>\n",
       "      <td>120.000000</td>\n",
       "      <td>211.000000</td>\n",
       "      <td>0.000000</td>\n",
       "      <td>0.000000</td>\n",
       "      <td>134.000000</td>\n",
       "      <td>0.000000</td>\n",
       "      <td>0.000000</td>\n",
       "      <td>1.000000</td>\n",
       "      <td>0.00000</td>\n",
       "      <td>0.000000</td>\n",
       "    </tr>\n",
       "    <tr>\n",
       "      <th>50%</th>\n",
       "      <td>56.000000</td>\n",
       "      <td>1.000000</td>\n",
       "      <td>130.000000</td>\n",
       "      <td>242.000000</td>\n",
       "      <td>0.000000</td>\n",
       "      <td>1.000000</td>\n",
       "      <td>153.000000</td>\n",
       "      <td>0.000000</td>\n",
       "      <td>0.800000</td>\n",
       "      <td>2.000000</td>\n",
       "      <td>0.00000</td>\n",
       "      <td>0.000000</td>\n",
       "    </tr>\n",
       "    <tr>\n",
       "      <th>75%</th>\n",
       "      <td>61.000000</td>\n",
       "      <td>1.000000</td>\n",
       "      <td>140.000000</td>\n",
       "      <td>275.000000</td>\n",
       "      <td>0.000000</td>\n",
       "      <td>2.000000</td>\n",
       "      <td>166.000000</td>\n",
       "      <td>1.000000</td>\n",
       "      <td>1.600000</td>\n",
       "      <td>2.000000</td>\n",
       "      <td>1.00000</td>\n",
       "      <td>1.000000</td>\n",
       "    </tr>\n",
       "    <tr>\n",
       "      <th>max</th>\n",
       "      <td>77.000000</td>\n",
       "      <td>1.000000</td>\n",
       "      <td>200.000000</td>\n",
       "      <td>564.000000</td>\n",
       "      <td>1.000000</td>\n",
       "      <td>2.000000</td>\n",
       "      <td>202.000000</td>\n",
       "      <td>1.000000</td>\n",
       "      <td>6.200000</td>\n",
       "      <td>3.000000</td>\n",
       "      <td>3.00000</td>\n",
       "      <td>1.000000</td>\n",
       "    </tr>\n",
       "  </tbody>\n",
       "</table>\n",
       "</div>"
      ],
      "text/plain": [
       "              Age         Sex      RestBP        Chol         Fbs     RestECG  \\\n",
       "count  301.000000  301.000000  301.000000  301.000000  301.000000  301.000000   \n",
       "mean    54.451827    0.681063  131.714286  246.936877    0.146179    0.990033   \n",
       "std      9.067258    0.466841   17.655729   51.859869    0.353874    0.994937   \n",
       "min     29.000000    0.000000   94.000000  126.000000    0.000000    0.000000   \n",
       "25%     48.000000    0.000000  120.000000  211.000000    0.000000    0.000000   \n",
       "50%     56.000000    1.000000  130.000000  242.000000    0.000000    1.000000   \n",
       "75%     61.000000    1.000000  140.000000  275.000000    0.000000    2.000000   \n",
       "max     77.000000    1.000000  200.000000  564.000000    1.000000    2.000000   \n",
       "\n",
       "            MaxHR       ExAng     Oldpeak       Slope         Ca      Target  \n",
       "count  301.000000  301.000000  301.000000  301.000000  301.00000  301.000000  \n",
       "mean   149.700997    0.325581    1.043189    1.601329    0.69103    0.458472  \n",
       "std     22.860817    0.469372    1.163384    0.616872    0.94915    0.499102  \n",
       "min     71.000000    0.000000    0.000000    1.000000    0.00000    0.000000  \n",
       "25%    134.000000    0.000000    0.000000    1.000000    0.00000    0.000000  \n",
       "50%    153.000000    0.000000    0.800000    2.000000    0.00000    0.000000  \n",
       "75%    166.000000    1.000000    1.600000    2.000000    1.00000    1.000000  \n",
       "max    202.000000    1.000000    6.200000    3.000000    3.00000    1.000000  "
      ]
     },
     "execution_count": 13,
     "metadata": {},
     "output_type": "execute_result"
    }
   ],
   "source": [
    "df.describe()"
   ]
  },
  {
   "cell_type": "markdown",
   "metadata": {},
   "source": [
    "##### Pandas Profiling Provide the Report of data set including Corelation"
   ]
  },
  {
   "cell_type": "code",
   "execution_count": 14,
   "metadata": {},
   "outputs": [
    {
     "name": "stdout",
     "output_type": "stream",
     "text": [
      "0    163\n",
      "1    138\n",
      "Name: Target, dtype: int64\n"
     ]
    }
   ],
   "source": [
    "d=df['Target'].value_counts()\n",
    "print(d)"
   ]
  },
  {
   "cell_type": "markdown",
   "metadata": {},
   "source": [
    "##### Heart Diseases Ratio in Dataset\n",
    "###### Blue Graph indicate no heart desease and Orange Graph show Heart desease"
   ]
  },
  {
   "cell_type": "code",
   "execution_count": 15,
   "metadata": {},
   "outputs": [
    {
     "data": {
      "image/png": "[encoded data removed]",
      "text/plain": [
       "<Figure size 360x144 with 1 Axes>"
      ]
     },
     "metadata": {
      "needs_background": "light"
     },
     "output_type": "display_data"
    }
   ],
   "source": [
    "import seaborn as sns\n",
    "def plotTarget():\n",
    "    sns.countplot(x='Target', data=df, ax=ax)\n",
    "    for i, p in enumerate(ax.patches):\n",
    "        count=df['Target'].value_counts().values[i]\n",
    "        x=p.get_x()+ p.get_width() /2.\n",
    "        y=p.get_height() + 3\n",
    "        label='{:1.2f}'.format(count / float(df.shape[0]))\n",
    "        ax.text(x, y,label, ha='center')\n",
    "        \n",
    "fig_target,ax=plt.subplots(nrows=1, ncols=1, figsize=(5, 2))\n",
    "plotTarget()"
   ]
  },
  {
   "cell_type": "code",
   "execution_count": 16,
   "metadata": {},
   "outputs": [
    {
     "data": {
      "text/html": [
       "<div>\n",
       "<style scoped>\n",
       "    .dataframe tbody tr th:only-of-type {\n",
       "        vertical-align: middle;\n",
       "    }\n",
       "\n",
       "    .dataframe tbody tr th {\n",
       "        vertical-align: top;\n",
       "    }\n",
       "\n",
       "    .dataframe thead th {\n",
       "        text-align: right;\n",
       "    }\n",
       "</style>\n",
       "<table border=\"1\" class=\"dataframe\">\n",
       "  <thead>\n",
       "    <tr style=\"text-align: right;\">\n",
       "      <th></th>\n",
       "      <th>Age</th>\n",
       "      <th>Sex</th>\n",
       "      <th>RestBP</th>\n",
       "      <th>Chol</th>\n",
       "      <th>Fbs</th>\n",
       "      <th>RestECG</th>\n",
       "      <th>MaxHR</th>\n",
       "      <th>ExAng</th>\n",
       "      <th>Oldpeak</th>\n",
       "      <th>Slope</th>\n",
       "      <th>Ca</th>\n",
       "      <th>Target</th>\n",
       "    </tr>\n",
       "  </thead>\n",
       "  <tbody>\n",
       "    <tr>\n",
       "      <th>Age</th>\n",
       "      <td>1.000000</td>\n",
       "      <td>-0.098138</td>\n",
       "      <td>0.284734</td>\n",
       "      <td>0.208287</td>\n",
       "      <td>0.121670</td>\n",
       "      <td>0.149037</td>\n",
       "      <td>-0.395982</td>\n",
       "      <td>0.092985</td>\n",
       "      <td>0.203604</td>\n",
       "      <td>0.162228</td>\n",
       "      <td>0.331939</td>\n",
       "      <td>0.224394</td>\n",
       "    </tr>\n",
       "    <tr>\n",
       "      <th>Sex</th>\n",
       "      <td>-0.098138</td>\n",
       "      <td>1.000000</td>\n",
       "      <td>-0.065284</td>\n",
       "      <td>-0.202126</td>\n",
       "      <td>0.041025</td>\n",
       "      <td>0.029016</td>\n",
       "      <td>-0.057065</td>\n",
       "      <td>0.140802</td>\n",
       "      <td>0.098482</td>\n",
       "      <td>0.031571</td>\n",
       "      <td>0.100345</td>\n",
       "      <td>0.272006</td>\n",
       "    </tr>\n",
       "    <tr>\n",
       "      <th>RestBP</th>\n",
       "      <td>0.284734</td>\n",
       "      <td>-0.065284</td>\n",
       "      <td>1.000000</td>\n",
       "      <td>0.129371</td>\n",
       "      <td>0.178498</td>\n",
       "      <td>0.147089</td>\n",
       "      <td>-0.046402</td>\n",
       "      <td>0.065564</td>\n",
       "      <td>0.188801</td>\n",
       "      <td>0.117437</td>\n",
       "      <td>0.100535</td>\n",
       "      <td>0.151471</td>\n",
       "    </tr>\n",
       "    <tr>\n",
       "      <th>Chol</th>\n",
       "      <td>0.208287</td>\n",
       "      <td>-0.202126</td>\n",
       "      <td>0.129371</td>\n",
       "      <td>1.000000</td>\n",
       "      <td>0.015762</td>\n",
       "      <td>0.171185</td>\n",
       "      <td>-0.005690</td>\n",
       "      <td>0.064250</td>\n",
       "      <td>0.044836</td>\n",
       "      <td>-0.004228</td>\n",
       "      <td>0.106125</td>\n",
       "      <td>0.086762</td>\n",
       "    </tr>\n",
       "    <tr>\n",
       "      <th>Fbs</th>\n",
       "      <td>0.121670</td>\n",
       "      <td>0.041025</td>\n",
       "      <td>0.178498</td>\n",
       "      <td>0.015762</td>\n",
       "      <td>1.000000</td>\n",
       "      <td>0.079892</td>\n",
       "      <td>-0.012297</td>\n",
       "      <td>0.013534</td>\n",
       "      <td>0.004855</td>\n",
       "      <td>0.054079</td>\n",
       "      <td>0.164689</td>\n",
       "      <td>0.015613</td>\n",
       "    </tr>\n",
       "    <tr>\n",
       "      <th>RestECG</th>\n",
       "      <td>0.149037</td>\n",
       "      <td>0.029016</td>\n",
       "      <td>0.147089</td>\n",
       "      <td>0.171185</td>\n",
       "      <td>0.079892</td>\n",
       "      <td>1.000000</td>\n",
       "      <td>-0.077950</td>\n",
       "      <td>0.092626</td>\n",
       "      <td>0.117580</td>\n",
       "      <td>0.140144</td>\n",
       "      <td>0.127330</td>\n",
       "      <td>0.177049</td>\n",
       "    </tr>\n",
       "    <tr>\n",
       "      <th>MaxHR</th>\n",
       "      <td>-0.395982</td>\n",
       "      <td>-0.057065</td>\n",
       "      <td>-0.046402</td>\n",
       "      <td>-0.005690</td>\n",
       "      <td>-0.012297</td>\n",
       "      <td>-0.077950</td>\n",
       "      <td>1.000000</td>\n",
       "      <td>-0.386043</td>\n",
       "      <td>-0.349391</td>\n",
       "      <td>-0.393527</td>\n",
       "      <td>-0.256365</td>\n",
       "      <td>-0.425870</td>\n",
       "    </tr>\n",
       "    <tr>\n",
       "      <th>ExAng</th>\n",
       "      <td>0.092985</td>\n",
       "      <td>0.140802</td>\n",
       "      <td>0.065564</td>\n",
       "      <td>0.064250</td>\n",
       "      <td>0.013534</td>\n",
       "      <td>0.092626</td>\n",
       "      <td>-0.386043</td>\n",
       "      <td>1.000000</td>\n",
       "      <td>0.287926</td>\n",
       "      <td>0.254076</td>\n",
       "      <td>0.151731</td>\n",
       "      <td>0.427860</td>\n",
       "    </tr>\n",
       "    <tr>\n",
       "      <th>Oldpeak</th>\n",
       "      <td>0.203604</td>\n",
       "      <td>0.098482</td>\n",
       "      <td>0.188801</td>\n",
       "      <td>0.044836</td>\n",
       "      <td>0.004855</td>\n",
       "      <td>0.117580</td>\n",
       "      <td>-0.349391</td>\n",
       "      <td>0.287926</td>\n",
       "      <td>1.000000</td>\n",
       "      <td>0.576795</td>\n",
       "      <td>0.274451</td>\n",
       "      <td>0.423894</td>\n",
       "    </tr>\n",
       "    <tr>\n",
       "      <th>Slope</th>\n",
       "      <td>0.162228</td>\n",
       "      <td>0.031571</td>\n",
       "      <td>0.117437</td>\n",
       "      <td>-0.004228</td>\n",
       "      <td>0.054079</td>\n",
       "      <td>0.140144</td>\n",
       "      <td>-0.393527</td>\n",
       "      <td>0.254076</td>\n",
       "      <td>0.576795</td>\n",
       "      <td>1.000000</td>\n",
       "      <td>0.102041</td>\n",
       "      <td>0.335806</td>\n",
       "    </tr>\n",
       "    <tr>\n",
       "      <th>Ca</th>\n",
       "      <td>0.331939</td>\n",
       "      <td>0.100345</td>\n",
       "      <td>0.100535</td>\n",
       "      <td>0.106125</td>\n",
       "      <td>0.164689</td>\n",
       "      <td>0.127330</td>\n",
       "      <td>-0.256365</td>\n",
       "      <td>0.151731</td>\n",
       "      <td>0.274451</td>\n",
       "      <td>0.102041</td>\n",
       "      <td>1.000000</td>\n",
       "      <td>0.454822</td>\n",
       "    </tr>\n",
       "    <tr>\n",
       "      <th>Target</th>\n",
       "      <td>0.224394</td>\n",
       "      <td>0.272006</td>\n",
       "      <td>0.151471</td>\n",
       "      <td>0.086762</td>\n",
       "      <td>0.015613</td>\n",
       "      <td>0.177049</td>\n",
       "      <td>-0.425870</td>\n",
       "      <td>0.427860</td>\n",
       "      <td>0.423894</td>\n",
       "      <td>0.335806</td>\n",
       "      <td>0.454822</td>\n",
       "      <td>1.000000</td>\n",
       "    </tr>\n",
       "  </tbody>\n",
       "</table>\n",
       "</div>"
      ],
      "text/plain": [
       "              Age       Sex    RestBP      Chol       Fbs   RestECG     MaxHR  \\\n",
       "Age      1.000000 -0.098138  0.284734  0.208287  0.121670  0.149037 -0.395982   \n",
       "Sex     -0.098138  1.000000 -0.065284 -0.202126  0.041025  0.029016 -0.057065   \n",
       "RestBP   0.284734 -0.065284  1.000000  0.129371  0.178498  0.147089 -0.046402   \n",
       "Chol     0.208287 -0.202126  0.129371  1.000000  0.015762  0.171185 -0.005690   \n",
       "Fbs      0.121670  0.041025  0.178498  0.015762  1.000000  0.079892 -0.012297   \n",
       "RestECG  0.149037  0.029016  0.147089  0.171185  0.079892  1.000000 -0.077950   \n",
       "MaxHR   -0.395982 -0.057065 -0.046402 -0.005690 -0.012297 -0.077950  1.000000   \n",
       "ExAng    0.092985  0.140802  0.065564  0.064250  0.013534  0.092626 -0.386043   \n",
       "Oldpeak  0.203604  0.098482  0.188801  0.044836  0.004855  0.117580 -0.349391   \n",
       "Slope    0.162228  0.031571  0.117437 -0.004228  0.054079  0.140144 -0.393527   \n",
       "Ca       0.331939  0.100345  0.100535  0.106125  0.164689  0.127330 -0.256365   \n",
       "Target   0.224394  0.272006  0.151471  0.086762  0.015613  0.177049 -0.425870   \n",
       "\n",
       "            ExAng   Oldpeak     Slope        Ca    Target  \n",
       "Age      0.092985  0.203604  0.162228  0.331939  0.224394  \n",
       "Sex      0.140802  0.098482  0.031571  0.100345  0.272006  \n",
       "RestBP   0.065564  0.188801  0.117437  0.100535  0.151471  \n",
       "Chol     0.064250  0.044836 -0.004228  0.106125  0.086762  \n",
       "Fbs      0.013534  0.004855  0.054079  0.164689  0.015613  \n",
       "RestECG  0.092626  0.117580  0.140144  0.127330  0.177049  \n",
       "MaxHR   -0.386043 -0.349391 -0.393527 -0.256365 -0.425870  \n",
       "ExAng    1.000000  0.287926  0.254076  0.151731  0.427860  \n",
       "Oldpeak  0.287926  1.000000  0.576795  0.274451  0.423894  \n",
       "Slope    0.254076  0.576795  1.000000  0.102041  0.335806  \n",
       "Ca       0.151731  0.274451  0.102041  1.000000  0.454822  \n",
       "Target   0.427860  0.423894  0.335806  0.454822  1.000000  "
      ]
     },
     "execution_count": 16,
     "metadata": {},
     "output_type": "execute_result"
    }
   ],
   "source": [
    "df.corr()"
   ]
  },
  {
   "cell_type": "markdown",
   "metadata": {},
   "source": [
    "##### Select Age as most dependent data on label \n",
    "###### Disease Probability Bar Plot"
   ]
  },
  {
   "cell_type": "code",
   "execution_count": 17,
   "metadata": {},
   "outputs": [
    {
     "data": {
      "image/png": "[encoded data removed]",
      "text/plain": [
       "<Figure size 1080x576 with 2 Axes>"
      ]
     },
     "metadata": {
      "needs_background": "light"
     },
     "output_type": "display_data"
    },
    {
     "data": {
      "text/plain": [
       "<Figure size 216x216 with 0 Axes>"
      ]
     },
     "metadata": {},
     "output_type": "display_data"
    }
   ],
   "source": [
    "def plotAge():\n",
    "    facet_grid = sns.FacetGrid(df, hue='Target')\n",
    "    facet_grid.map(sns.kdeplot, \"Age\", shade=True, ax=axes[0])\n",
    "    legend_labels = ['Disease false', 'Disease true']\n",
    "    for t, l in zip(axes[0].get_legend().texts, legend_labels):\n",
    "        t.set_text(l)\n",
    "        axes[0].set(xlabel='Age', ylabel='Density')\n",
    "\n",
    "    avg = df[[\"Age\", \"Target\"]].groupby(['Age'], as_index=False).mean()\n",
    "    sns.barplot(x='Age', y='Target', data=avg, ax=axes[1])\n",
    "    axes[1].set(xlabel='Age', ylabel='disease probability')\n",
    "\n",
    "    plt.clf()\n",
    "\n",
    "fig_age, axes = plt.subplots(nrows=2, ncols=1, figsize=(15, 8))\n",
    "plotAge()"
   ]
  },
  {
   "cell_type": "markdown",
   "metadata": {},
   "source": [
    "##### Checking For Categorical Data"
   ]
  },
  {
   "cell_type": "code",
   "execution_count": 18,
   "metadata": {},
   "outputs": [
    {
     "data": {
      "text/plain": [
       "asymptomatic    143\n",
       "nonanginal       85\n",
       "nontypical       50\n",
       "typical          23\n",
       "Name: ChestPain, dtype: int64"
      ]
     },
     "execution_count": 18,
     "metadata": {},
     "output_type": "execute_result"
    }
   ],
   "source": [
    "x=df['ChestPain']\n",
    "x.value_counts()"
   ]
  },
  {
   "cell_type": "code",
   "execution_count": 19,
   "metadata": {},
   "outputs": [
    {
     "data": {
      "text/plain": [
       "normal        166\n",
       "reversable    117\n",
       "fixed          18\n",
       "Name: Thal, dtype: int64"
      ]
     },
     "execution_count": 19,
     "metadata": {},
     "output_type": "execute_result"
    }
   ],
   "source": [
    "x=df['Thal']\n",
    "x.value_counts()"
   ]
  },
  {
   "cell_type": "markdown",
   "metadata": {},
   "source": [
    "##### Ploting Function For Categorical Data \" Chest Pain\" && \"Thalassemia\"\n",
    "##### Ploting Function For Continoius Data"
   ]
  },
  {
   "cell_type": "code",
   "execution_count": 20,
   "metadata": {},
   "outputs": [],
   "source": [
    "import seaborn as sns\n",
    "category=[('ChestPain', ['typical','nontypical','nonanginal','asymptomatic']),('Thal',['fixed','normal','reversable',])]\n",
    "continuous = [('Age', 'Age in year'),\n",
    "              ('Sex','1 for Male 0 for Female'),\n",
    "              ('RestBP','BP in Rest State'),\n",
    "              ('Fbs','Fasting blood glucose'),\n",
    "              ('RestECG','ECG at rest'),\n",
    "              ('Chol', 'serum cholestoral in mg/d'),\n",
    "              ('MaxHR','Max Heart Rate'),\n",
    "              ('ExAng','Exchange Rate'),\n",
    "              ('Slope','Slope of Curve'),\n",
    "              ('Oldpeak', 'ST depression by exercise relative to rest'), \n",
    "              ('Ca', '# major vessels: (0-3) colored by flourosopy')]\n",
    "\n",
    "        \n",
    "def plotCategorial(attribute, labels, ax_index):\n",
    "    sns.countplot(x=attribute, data=df, ax=axes[ax_index][0])\n",
    "    sns.countplot(x='Target', hue=attribute, data=df, ax=axes[ax_index][1])\n",
    "    avg = df[[attribute, 'Target']].groupby([attribute], as_index=False).mean()\n",
    "    sns.barplot(x=attribute, y='Target', hue=attribute, data=avg, ax=axes[ax_index][2])\n",
    "    \n",
    "    for t, l in zip(axes[ax_index][1].get_legend().texts, labels):\n",
    "        t.set_text(l)\n",
    "    for t, l in zip(axes[ax_index][2].get_legend().texts, labels):\n",
    "        t.set_text(l)\n",
    "\n",
    "\n",
    "def plotContinuous(attribute, xlabel, ax_index):\n",
    "    sns.distplot(df[[attribute]], ax=axes[ax_index][0])\n",
    "    axes[ax_index][0].set(xlabel=xlabel, ylabel='density')\n",
    "    sns.violinplot(x='Target', y=attribute, data=df, ax=axes[ax_index][1])\n",
    "    \n",
    "    \n",
    "def plotGrid(isCategorial):\n",
    "    if isCategorial:\n",
    "        [plotCategorial(x[0], x[1], i) for i, x in enumerate(category)] \n",
    "    else:\n",
    "        [plotContinuous(x[0], x[1], i) for i, x in enumerate(continuous)]"
   ]
  },
  {
   "cell_type": "markdown",
   "metadata": {},
   "source": [
    "##### Categorical Plot"
   ]
  },
  {
   "cell_type": "code",
   "execution_count": 21,
   "metadata": {},
   "outputs": [
    {
     "data": {
      "image/png": "[encoded data removed]",
      "text/plain": [
       "<Figure size 720x720 with 6 Axes>"
      ]
     },
     "metadata": {
      "needs_background": "light"
     },
     "output_type": "display_data"
    }
   ],
   "source": [
    "fig_categorial,axes=plt.subplots(nrows=len(category), ncols=3, figsize=(10, 10))\n",
    "plotGrid(isCategorial=True)"
   ]
  },
  {
   "cell_type": "markdown",
   "metadata": {},
   "source": [
    "##### Continuous Plot"
   ]
  },
  {
   "cell_type": "code",
   "execution_count": 22,
   "metadata": {},
   "outputs": [
    {
     "name": "stderr",
     "output_type": "stream",
     "text": [
      "C:\\Users\\Dell\\anaconda3\\lib\\site-packages\\seaborn\\distributions.py:369: UserWarning: Default bandwidth for data is 0; skipping density estimation.\n",
      "  warnings.warn(msg, UserWarning)\n"
     ]
    },
    {
     "data": {
      "image/png": "[encoded data removed]",
      "text/plain": [
       "<Figure size 720x720 with 22 Axes>"
      ]
     },
     "metadata": {
      "needs_background": "light"
     },
     "output_type": "display_data"
    }
   ],
   "source": [
    "fig_continuous, axes = plt.subplots(nrows=len(continuous), ncols=2, figsize=(10,10))\n",
    "plotGrid(isCategorial=False)"
   ]
  },
  {
   "cell_type": "markdown",
   "metadata": {},
   "source": [
    "##### Creating Dummy"
   ]
  },
  {
   "cell_type": "code",
   "execution_count": 23,
   "metadata": {},
   "outputs": [],
   "source": [
    "#dummy for chest Pain\n",
    "chestpain_dummy = pd.get_dummies(df.loc[:,'ChestPain'])\n",
    "chestpain_dummy.rename(columns={1: 'Typical', 2: 'Asymptomatic',3: 'Nonanginal', 4: 'Nontypical'}, inplace=True)\n",
    "#dummy for RestECG\n",
    "restecg_dummy = pd.get_dummies(df.loc[:,'RestECG'])\n",
    "restecg_dummy.rename(columns={0: 'Normal_restECG', 1: 'Wave_abnormal_restECG',2:'Ventricular_ht_restECG'},inplace=True)\n",
    "#dummy for Slope\n",
    "slope_dummy = pd.get_dummies(df['Slope'])\n",
    "slope_dummy.rename(columns={1: 'Slope_upsloping', 2:'Slope_flat',3: 'Slope_downsloping'},inplace=True)\n",
    "#dummy for Thal\n",
    "thal_dummy = pd.get_dummies(df['Thal'])\n",
    "thal_dummy.rename(columns={3: 'Thal_Normal', 6: 'Thal_fixed',7: 'Thal_reversible'}, inplace=True)\n",
    "#concatination in data frame\n",
    "df = pd.concat([df,chestpain_dummy, restecg_dummy, slope_dummy, thal_dummy], axis=1)\n",
    "#droping Column because their dummies are created\n",
    "df.drop(['ChestPain','RestECG', 'Slope', 'Thal'], axis=1, inplace=True)"
   ]
  },
  {
   "cell_type": "markdown",
   "metadata": {},
   "source": [
    "##### Checking the No object will left "
   ]
  },
  {
   "cell_type": "code",
   "execution_count": 24,
   "metadata": {},
   "outputs": [
    {
     "name": "stdout",
     "output_type": "stream",
     "text": [
      "<class 'pandas.core.frame.DataFrame'>\n",
      "Int64Index: 301 entries, 0 to 302\n",
      "Data columns (total 23 columns):\n",
      " #   Column                  Non-Null Count  Dtype  \n",
      "---  ------                  --------------  -----  \n",
      " 0   Age                     301 non-null    int64  \n",
      " 1   Sex                     301 non-null    int64  \n",
      " 2   RestBP                  301 non-null    int64  \n",
      " 3   Chol                    301 non-null    int64  \n",
      " 4   Fbs                     301 non-null    int64  \n",
      " 5   MaxHR                   301 non-null    int64  \n",
      " 6   ExAng                   301 non-null    int64  \n",
      " 7   Oldpeak                 301 non-null    float64\n",
      " 8   Ca                      301 non-null    int64  \n",
      " 9   Target                  301 non-null    int64  \n",
      " 10  asymptomatic            301 non-null    uint8  \n",
      " 11  nonanginal              301 non-null    uint8  \n",
      " 12  nontypical              301 non-null    uint8  \n",
      " 13  typical                 301 non-null    uint8  \n",
      " 14  Normal_restECG          301 non-null    uint8  \n",
      " 15  Wave_abnormal_restECG   301 non-null    uint8  \n",
      " 16  Ventricular_ht_restECG  301 non-null    uint8  \n",
      " 17  Slope_upsloping         301 non-null    uint8  \n",
      " 18  Slope_flat              301 non-null    uint8  \n",
      " 19  Slope_downsloping       301 non-null    uint8  \n",
      " 20  fixed                   301 non-null    uint8  \n",
      " 21  normal                  301 non-null    uint8  \n",
      " 22  reversable              301 non-null    uint8  \n",
      "dtypes: float64(1), int64(9), uint8(13)\n",
      "memory usage: 39.7 KB\n"
     ]
    }
   ],
   "source": [
    "df.info()"
   ]
  },
  {
   "cell_type": "markdown",
   "metadata": {},
   "source": [
    "##### Checking dataset"
   ]
  },
  {
   "cell_type": "code",
   "execution_count": 25,
   "metadata": {},
   "outputs": [
    {
     "data": {
      "text/html": [
       "<div>\n",
       "<style scoped>\n",
       "    .dataframe tbody tr th:only-of-type {\n",
       "        vertical-align: middle;\n",
       "    }\n",
       "\n",
       "    .dataframe tbody tr th {\n",
       "        vertical-align: top;\n",
       "    }\n",
       "\n",
       "    .dataframe thead th {\n",
       "        text-align: right;\n",
       "    }\n",
       "</style>\n",
       "<table border=\"1\" class=\"dataframe\">\n",
       "  <thead>\n",
       "    <tr style=\"text-align: right;\">\n",
       "      <th></th>\n",
       "      <th>Age</th>\n",
       "      <th>Sex</th>\n",
       "      <th>RestBP</th>\n",
       "      <th>Chol</th>\n",
       "      <th>Fbs</th>\n",
       "      <th>MaxHR</th>\n",
       "      <th>ExAng</th>\n",
       "      <th>Oldpeak</th>\n",
       "      <th>Ca</th>\n",
       "      <th>Target</th>\n",
       "      <th>...</th>\n",
       "      <th>typical</th>\n",
       "      <th>Normal_restECG</th>\n",
       "      <th>Wave_abnormal_restECG</th>\n",
       "      <th>Ventricular_ht_restECG</th>\n",
       "      <th>Slope_upsloping</th>\n",
       "      <th>Slope_flat</th>\n",
       "      <th>Slope_downsloping</th>\n",
       "      <th>fixed</th>\n",
       "      <th>normal</th>\n",
       "      <th>reversable</th>\n",
       "    </tr>\n",
       "  </thead>\n",
       "  <tbody>\n",
       "    <tr>\n",
       "      <th>0</th>\n",
       "      <td>63</td>\n",
       "      <td>1</td>\n",
       "      <td>145</td>\n",
       "      <td>233</td>\n",
       "      <td>1</td>\n",
       "      <td>150</td>\n",
       "      <td>0</td>\n",
       "      <td>2.3</td>\n",
       "      <td>0</td>\n",
       "      <td>0</td>\n",
       "      <td>...</td>\n",
       "      <td>1</td>\n",
       "      <td>0</td>\n",
       "      <td>0</td>\n",
       "      <td>1</td>\n",
       "      <td>0</td>\n",
       "      <td>0</td>\n",
       "      <td>1</td>\n",
       "      <td>1</td>\n",
       "      <td>0</td>\n",
       "      <td>0</td>\n",
       "    </tr>\n",
       "    <tr>\n",
       "      <th>1</th>\n",
       "      <td>67</td>\n",
       "      <td>1</td>\n",
       "      <td>160</td>\n",
       "      <td>286</td>\n",
       "      <td>0</td>\n",
       "      <td>108</td>\n",
       "      <td>1</td>\n",
       "      <td>1.5</td>\n",
       "      <td>3</td>\n",
       "      <td>1</td>\n",
       "      <td>...</td>\n",
       "      <td>0</td>\n",
       "      <td>0</td>\n",
       "      <td>0</td>\n",
       "      <td>1</td>\n",
       "      <td>0</td>\n",
       "      <td>1</td>\n",
       "      <td>0</td>\n",
       "      <td>0</td>\n",
       "      <td>1</td>\n",
       "      <td>0</td>\n",
       "    </tr>\n",
       "    <tr>\n",
       "      <th>2</th>\n",
       "      <td>67</td>\n",
       "      <td>1</td>\n",
       "      <td>120</td>\n",
       "      <td>229</td>\n",
       "      <td>0</td>\n",
       "      <td>129</td>\n",
       "      <td>1</td>\n",
       "      <td>2.6</td>\n",
       "      <td>2</td>\n",
       "      <td>1</td>\n",
       "      <td>...</td>\n",
       "      <td>0</td>\n",
       "      <td>0</td>\n",
       "      <td>0</td>\n",
       "      <td>1</td>\n",
       "      <td>0</td>\n",
       "      <td>1</td>\n",
       "      <td>0</td>\n",
       "      <td>0</td>\n",
       "      <td>0</td>\n",
       "      <td>1</td>\n",
       "    </tr>\n",
       "    <tr>\n",
       "      <th>3</th>\n",
       "      <td>37</td>\n",
       "      <td>1</td>\n",
       "      <td>130</td>\n",
       "      <td>250</td>\n",
       "      <td>0</td>\n",
       "      <td>187</td>\n",
       "      <td>0</td>\n",
       "      <td>3.5</td>\n",
       "      <td>0</td>\n",
       "      <td>0</td>\n",
       "      <td>...</td>\n",
       "      <td>0</td>\n",
       "      <td>1</td>\n",
       "      <td>0</td>\n",
       "      <td>0</td>\n",
       "      <td>0</td>\n",
       "      <td>0</td>\n",
       "      <td>1</td>\n",
       "      <td>0</td>\n",
       "      <td>1</td>\n",
       "      <td>0</td>\n",
       "    </tr>\n",
       "    <tr>\n",
       "      <th>4</th>\n",
       "      <td>41</td>\n",
       "      <td>0</td>\n",
       "      <td>130</td>\n",
       "      <td>204</td>\n",
       "      <td>0</td>\n",
       "      <td>172</td>\n",
       "      <td>0</td>\n",
       "      <td>1.4</td>\n",
       "      <td>0</td>\n",
       "      <td>0</td>\n",
       "      <td>...</td>\n",
       "      <td>0</td>\n",
       "      <td>0</td>\n",
       "      <td>0</td>\n",
       "      <td>1</td>\n",
       "      <td>1</td>\n",
       "      <td>0</td>\n",
       "      <td>0</td>\n",
       "      <td>0</td>\n",
       "      <td>1</td>\n",
       "      <td>0</td>\n",
       "    </tr>\n",
       "  </tbody>\n",
       "</table>\n",
       "<p>5 rows × 23 columns</p>\n",
       "</div>"
      ],
      "text/plain": [
       "   Age  Sex  RestBP  Chol  Fbs  MaxHR  ExAng  Oldpeak  Ca  Target  ...  \\\n",
       "0   63    1     145   233    1    150      0      2.3   0       0  ...   \n",
       "1   67    1     160   286    0    108      1      1.5   3       1  ...   \n",
       "2   67    1     120   229    0    129      1      2.6   2       1  ...   \n",
       "3   37    1     130   250    0    187      0      3.5   0       0  ...   \n",
       "4   41    0     130   204    0    172      0      1.4   0       0  ...   \n",
       "\n",
       "   typical  Normal_restECG  Wave_abnormal_restECG  Ventricular_ht_restECG  \\\n",
       "0        1               0                      0                       1   \n",
       "1        0               0                      0                       1   \n",
       "2        0               0                      0                       1   \n",
       "3        0               1                      0                       0   \n",
       "4        0               0                      0                       1   \n",
       "\n",
       "   Slope_upsloping  Slope_flat  Slope_downsloping  fixed  normal  reversable  \n",
       "0                0           0                  1      1       0           0  \n",
       "1                0           1                  0      0       1           0  \n",
       "2                0           1                  0      0       0           1  \n",
       "3                0           0                  1      0       1           0  \n",
       "4                1           0                  0      0       1           0  \n",
       "\n",
       "[5 rows x 23 columns]"
      ]
     },
     "execution_count": 25,
     "metadata": {},
     "output_type": "execute_result"
    }
   ],
   "source": [
    "df.head()"
   ]
  },
  {
   "cell_type": "markdown",
   "metadata": {},
   "source": [
    "##### Selecting label means selected Column to predict in df_X and input column in df_y"
   ]
  },
  {
   "cell_type": "code",
   "execution_count": 26,
   "metadata": {},
   "outputs": [],
   "source": [
    "df_X= df.loc[:, df.columns != 'Target']\n",
    "df_y= df.loc[:, df.columns == 'Target']"
   ]
  },
  {
   "cell_type": "markdown",
   "metadata": {},
   "source": [
    "# Model Training "
   ]
  },
  {
   "cell_type": "markdown",
   "metadata": {},
   "source": [
    "#### Recursive Feature Elimination"
   ]
  },
  {
   "cell_type": "code",
   "execution_count": 27,
   "metadata": {},
   "outputs": [
    {
     "name": "stdout",
     "output_type": "stream",
     "text": [
      "[ True  True False False  True  True  True  True  True  True  True  True\n",
      "  True  True  True  True  True  True  True  True  True  True]\n",
      "[1 1 2 3 1 1 1 1 1 1 1 1 1 1 1 1 1 1 1 1 1 1]\n",
      "Optimization terminated successfully.\n",
      "         Current function value: 0.332484\n",
      "         Iterations 8\n",
      "                                     Results: Logit\n",
      "========================================================================================\n",
      "Model:                       Logit                   Pseudo R-squared:        0.518     \n",
      "Dependent Variable:          Target                  AIC:                     234.1552  \n",
      "Date:                        2020-12-26 00:12        BIC:                     297.1760  \n",
      "No. Observations:            301                     Log-Likelihood:          -100.08   \n",
      "Df Model:                    16                      LL-Null:                 -207.60   \n",
      "Df Residuals:                284                     LLR p-value:             7.1034e-37\n",
      "Converged:                   1.0000                  Scale:                   1.0000    \n",
      "No. Iterations:              8.0000                                                     \n",
      "----------------------------------------------------------------------------------------\n",
      "                        Coef.     Std.Err.      z    P>|z|      [0.025         0.975]   \n",
      "----------------------------------------------------------------------------------------\n",
      "Age                     0.0047        0.0230  0.2020 0.8399        -0.0405        0.0498\n",
      "Sex                     1.1840        0.4872  2.4304 0.0151         0.2292        2.1389\n",
      "Fbs                    -0.3222        0.5799 -0.5556 0.5785        -1.4587        0.8143\n",
      "MaxHR                  -0.0111        0.0104 -1.0651 0.2868        -0.0314        0.0093\n",
      "ExAng                   0.7486        0.4272  1.7521 0.0798        -0.0888        1.5860\n",
      "Oldpeak                 0.4482        0.2290  1.9572 0.0503        -0.0006        0.8971\n",
      "Ca                      1.1716        0.2602  4.5030 0.0000         0.6616        1.6815\n",
      "asymptomatic            3.5304           nan     nan    nan            nan           nan\n",
      "nonanginal              1.6586           nan     nan    nan            nan           nan\n",
      "nontypical              2.6387           nan     nan    nan            nan           nan\n",
      "typical                 1.6550           nan     nan    nan            nan           nan\n",
      "Normal_restECG         -3.5161 12036888.2217 -0.0000 1.0000 -23591870.9166 23591863.8845\n",
      "Wave_abnormal_restECG  -2.3075 12971894.2713 -0.0000 1.0000 -25424447.8905 25424443.2755\n",
      "Ventricular_ht_restECG -2.8474 11864699.0393 -0.0000 1.0000 -23254385.6519 23254379.9570\n",
      "Slope_upsloping        -0.7486           nan     nan    nan            nan           nan\n",
      "Slope_flat              0.2622           nan     nan    nan            nan           nan\n",
      "Slope_downsloping      -0.4045           nan     nan    nan            nan           nan\n",
      "fixed                  -0.7119           nan     nan    nan            nan           nan\n",
      "normal                 -0.8429           nan     nan    nan            nan           nan\n",
      "reversable              0.6640           nan     nan    nan            nan           nan\n",
      "========================================================================================\n",
      "\n"
     ]
    },
    {
     "name": "stderr",
     "output_type": "stream",
     "text": [
      "C:\\Users\\Dell\\anaconda3\\lib\\site-packages\\sklearn\\utils\\validation.py:68: FutureWarning: Pass n_features_to_select=20 as keyword args. From version 0.25 passing these as positional arguments will result in an error\n",
      "  warnings.warn(\"Pass {} as keyword args. From version 0.25 \"\n"
     ]
    }
   ],
   "source": [
    "import statsmodels.api as sm\n",
    "from sklearn.feature_selection import RFE\n",
    "from sklearn.linear_model import LogisticRegression\n",
    "selected_features=[]\n",
    "lr=LogisticRegression()\n",
    "rfe=RFE(lr,20)\n",
    "\n",
    "warnings.simplefilter('ignore')\n",
    "rfe.fit(df_X.values,df_y.values)\n",
    "print(rfe.support_)\n",
    "print(rfe.ranking_)\n",
    "\n",
    "for i, feature in enumerate(df_X.columns.values):\n",
    "    if rfe.support_[i]:\n",
    "        selected_features.append(feature)\n",
    "\n",
    "df_selected_X = df_X[selected_features]\n",
    "df_selected_y=df_y\n",
    "\n",
    "lm=sm.Logit(df_selected_y,df_selected_X)\n",
    "result = lm.fit()\n",
    "\n",
    "print(result.summary2())\n",
    "warnings.simplefilter('ignore')"
   ]
  },
  {
   "cell_type": "markdown",
   "metadata": {},
   "source": [
    "##### Spliting Values into test and traning Dataset in the ratio 0.75:0.25"
   ]
  },
  {
   "cell_type": "code",
   "execution_count": 28,
   "metadata": {},
   "outputs": [],
   "source": [
    "from sklearn.model_selection import train_test_split\n",
    "X_train,X_test, y_train, y_test=train_test_split(df_selected_X,df_selected_y, test_size = 0.25, random_state =0)\n",
    "columns = X_train.columns"
   ]
  },
  {
   "cell_type": "markdown",
   "metadata": {},
   "source": [
    "##### Calculating Accuracy Function and confusion Matrix of the Models"
   ]
  },
  {
   "cell_type": "code",
   "execution_count": 30,
   "metadata": {},
   "outputs": [],
   "source": [
    "from sklearn.metrics import confusion_matrix\n",
    "from sklearn.metrics import classification_report\n",
    "from sklearn.metrics import accuracy_score\n",
    "def cal_accuracy(y_test, y_predict): \n",
    "    \n",
    "    print(\"\\nConfusion Matrix: \\n\", \n",
    "    confusion_matrix(y_test, y_predict)) \n",
    "      \n",
    "    print (f\"\\nAccuracy : {accuracy_score(y_test,y_predict)*100:0.3f}\")"
   ]
  },
  {
   "cell_type": "markdown",
   "metadata": {},
   "source": [
    "# Logistic Regression"
   ]
  },
  {
   "cell_type": "code",
   "execution_count": 31,
   "metadata": {},
   "outputs": [
    {
     "name": "stdout",
     "output_type": "stream",
     "text": [
      "Accuracy of Test Dataset: 0.842\n",
      "Accuracy of Train Dataset: 0.849\n"
     ]
    }
   ],
   "source": [
    "lr=LogisticRegression()\n",
    "lr.fit(X_train,y_train)\n",
    "y_predict=lr.predict(X_test)\n",
    "print(f\"Accuracy of Test Dataset: {lr.score(X_test,y_test):0.3f}\")\n",
    "print(f\"Accuracy of Train Dataset: {lr.score(X_train,y_train):0.3f}\")\n",
    "warnings.simplefilter('ignore')"
   ]
  },
  {
   "cell_type": "markdown",
   "metadata": {},
   "source": [
    "##### Vale Prediction for Test dataset for Logistic Regression"
   ]
  },
  {
   "cell_type": "code",
   "execution_count": 32,
   "metadata": {},
   "outputs": [
    {
     "name": "stdout",
     "output_type": "stream",
     "text": [
      "Predicted values:\n",
      "[1 0 0 1 0 0 1 0 0 0 0 0 1 0 0 0 1 0 1 0 0 1 0 1 1 0 1 1 1 1 0 0 0 1 0 0 1\n",
      " 0 0 1 0 1 1 0 0 1 1 1 0 0 1 0 0 0 1 1 1 1 0 1 0 0 0 1 1 0 1 1 1 1 1 0 0 1\n",
      " 1 0]\n",
      "\n",
      "Confusion Matrix: \n",
      " [[34  6]\n",
      " [ 6 30]]\n",
      "\n",
      "Accuracy : 84.211\n"
     ]
    }
   ],
   "source": [
    "print(\"Predicted values:\") \n",
    "print(y_predict)\n",
    "cal_accuracy(y_test, y_predict)"
   ]
  },
  {
   "cell_type": "markdown",
   "metadata": {},
   "source": [
    "# Support Vector Machine"
   ]
  },
  {
   "cell_type": "code",
   "execution_count": 33,
   "metadata": {},
   "outputs": [
    {
     "name": "stdout",
     "output_type": "stream",
     "text": [
      "Accuracy of Test Dataset: 0.855\n",
      "Accuracy of Train Dataset: 0.858\n"
     ]
    }
   ],
   "source": [
    "from sklearn import svm\n",
    "svm_linear = svm.SVC(kernel='linear')\n",
    "svm_linear.fit(X_train,y_train)\n",
    "warnings.simplefilter('ignore')\n",
    "print(f\"Accuracy of Test Dataset: {svm_linear.score(X_test,y_test):0.3f}\")\n",
    "print(f\"Accuracy of Train Dataset: {svm_linear.score(X_train,y_train):0.3f}\")"
   ]
  },
  {
   "cell_type": "markdown",
   "metadata": {},
   "source": [
    "##### Vale Prediction for Test dataset for SVM"
   ]
  },
  {
   "cell_type": "code",
   "execution_count": 34,
   "metadata": {},
   "outputs": [
    {
     "name": "stdout",
     "output_type": "stream",
     "text": [
      "Predicted values:\n",
      "[1 0 0 1 0 0 1 0 0 0 0 0 1 0 0 0 1 0 1 0 0 1 0 1 1 0 1 1 1 1 0 0 0 1 0 0 1\n",
      " 0 0 1 0 1 1 0 0 1 1 1 0 0 1 0 0 0 1 1 1 1 0 1 0 0 0 1 1 0 1 1 1 1 1 0 0 1\n",
      " 1 0]\n",
      "\n",
      "Confusion Matrix: \n",
      " [[34  6]\n",
      " [ 6 30]]\n",
      "\n",
      "Accuracy : 84.211\n"
     ]
    }
   ],
   "source": [
    "print(\"Predicted values:\") \n",
    "print(y_predict)\n",
    "cal_accuracy(y_test, y_predict)"
   ]
  },
  {
   "cell_type": "markdown",
   "metadata": {},
   "source": [
    "# Decision Tree"
   ]
  },
  {
   "cell_type": "code",
   "execution_count": 35,
   "metadata": {},
   "outputs": [
    {
     "name": "stdout",
     "output_type": "stream",
     "text": [
      "Accuracy of Test Dataset: 0.697\n",
      "Accuracy of Train Dataset: 0.831\n"
     ]
    }
   ],
   "source": [
    "from sklearn.tree import DecisionTreeClassifier\n",
    "gini = DecisionTreeClassifier(criterion = \"gini\", random_state =100,max_depth=3, min_samples_leaf=5)\n",
    "gini.fit(X_train, y_train)\n",
    "warnings.simplefilter('ignore')\n",
    "print(f\"Accuracy of Test Dataset: {gini.score(X_test,y_test):0.3f}\")\n",
    "print(f\"Accuracy of Train Dataset: {gini.score(X_train,y_train):0.3f}\")"
   ]
  },
  {
   "cell_type": "markdown",
   "metadata": {},
   "source": [
    "##### Vale Prediction for Test dataset for Decision Tree"
   ]
  },
  {
   "cell_type": "code",
   "execution_count": 36,
   "metadata": {},
   "outputs": [
    {
     "name": "stdout",
     "output_type": "stream",
     "text": [
      "Predicted values:\n",
      "\n",
      "[1 0 0 0 0 1 0 0 0 0 0 0 0 1 0 0 0 1 1 1 1 1 0 1 1 0 1 1 1 1 1 0 0 1 1 0 1\n",
      " 0 1 1 1 0 0 0 0 1 0 1 0 1 1 0 0 0 0 1 1 0 0 1 0 0 0 1 1 0 1 1 1 1 1 0 1 0\n",
      " 0 1]\n",
      "\n",
      "Confusion Matrix: \n",
      " [[28 12]\n",
      " [11 25]]\n",
      "\n",
      "Accuracy : 69.737\n"
     ]
    }
   ],
   "source": [
    "y_predict=gini.predict(X_test) \n",
    "print(\"Predicted values:\\n\")\n",
    "print(y_predict) \n",
    "cal_accuracy(y_test, y_predict)"
   ]
  },
  {
   "cell_type": "markdown",
   "metadata": {},
   "source": [
    "# Random Forest"
   ]
  },
  {
   "cell_type": "code",
   "execution_count": 37,
   "metadata": {},
   "outputs": [
    {
     "name": "stdout",
     "output_type": "stream",
     "text": [
      "Accuracy of Test Dataset: 0.829\n",
      "Accuracy of Train Dataset: 1.000\n"
     ]
    }
   ],
   "source": [
    "from sklearn.ensemble import RandomForestClassifier\n",
    "\n",
    "forest=RandomForestClassifier(n_estimators=100)\n",
    "forest.fit(X_train,y_train)\n",
    "\n",
    "warnings.simplefilter('ignore')\n",
    "print(f\"Accuracy of Test Dataset: {forest.score(X_test,y_test):0.3f}\")\n",
    "print(f\"Accuracy of Train Dataset: {forest.score(X_train,y_train):0.3f}\")"
   ]
  },
  {
   "cell_type": "markdown",
   "metadata": {},
   "source": [
    "##### Over Fitting Issue\n",
    "##### Vale Prediction for Test dataset for Rondom Forest"
   ]
  },
  {
   "cell_type": "code",
   "execution_count": 38,
   "metadata": {},
   "outputs": [
    {
     "name": "stdout",
     "output_type": "stream",
     "text": [
      "Predicted values:\n",
      "\n",
      "[1 0 0 1 0 0 1 0 0 0 0 0 1 1 0 0 1 0 1 1 0 1 0 1 1 1 1 1 1 1 0 0 0 1 0 0 1\n",
      " 0 0 1 0 0 1 0 0 1 1 1 0 0 1 0 0 0 1 1 1 1 0 1 0 0 0 1 1 0 1 1 1 1 1 0 1 1\n",
      " 1 0]\n",
      "\n",
      "Confusion Matrix: \n",
      " [[32  8]\n",
      " [ 5 31]]\n",
      "\n",
      "Accuracy : 82.895\n"
     ]
    }
   ],
   "source": [
    "y_predict=forest.predict(X_test)\n",
    "print(\"Predicted values:\\n\")\n",
    "print(y_predict)\n",
    "cal_accuracy(y_test, y_predict)"
   ]
  },
  {
   "cell_type": "markdown",
   "metadata": {},
   "source": [
    "# Cross Validation For Models"
   ]
  },
  {
   "cell_type": "code",
   "execution_count": 39,
   "metadata": {},
   "outputs": [
    {
     "name": "stdout",
     "output_type": "stream",
     "text": [
      "Cross validated Accuracy of  Linear Regression:: 0.800\n",
      "Cross validated Accuracy of  Support Vector Machine:: 0.791\n",
      "Cross validated Accuracy of  Decision Tree:: 0.799\n",
      "Cross validated Accuracy of  Random Forest:: 0.786\n"
     ]
    }
   ],
   "source": [
    "from sklearn import model_selection\n",
    "kfold=model_selection.KFold(n_splits=10, random_state=7)\n",
    "models=[('Linear Regression', lr), ('Support Vector Machine', svm_linear),('Decision Tree',gini),\n",
    "        ('Random Forest',forest)]\n",
    "warnings.simplefilter('ignore')\n",
    "\n",
    "for model in models:\n",
    "    results=model_selection.cross_val_score(model[1],X_train,y_train,cv=kfold,scoring='accuracy')\n",
    "    print(f\"Cross validated Accuracy of  {model[0]}:: {results.mean():.3f}\")"
   ]
  },
  {
   "cell_type": "code",
   "execution_count": 41,
   "metadata": {},
   "outputs": [
    {
     "data": {
      "text/html": [
       "<div>\n",
       "<style scoped>\n",
       "    .dataframe tbody tr th:only-of-type {\n",
       "        vertical-align: middle;\n",
       "    }\n",
       "\n",
       "    .dataframe tbody tr th {\n",
       "        vertical-align: top;\n",
       "    }\n",
       "\n",
       "    .dataframe thead th {\n",
       "        text-align: right;\n",
       "    }\n",
       "</style>\n",
       "<table border=\"1\" class=\"dataframe\">\n",
       "  <thead>\n",
       "    <tr style=\"text-align: right;\">\n",
       "      <th></th>\n",
       "      <th>Model</th>\n",
       "      <th>Traning Accuracy</th>\n",
       "      <th>Test Accuracy</th>\n",
       "    </tr>\n",
       "  </thead>\n",
       "  <tbody>\n",
       "    <tr>\n",
       "      <th>1</th>\n",
       "      <td>SVM</td>\n",
       "      <td>0.857778</td>\n",
       "      <td>0.855263</td>\n",
       "    </tr>\n",
       "    <tr>\n",
       "      <th>0</th>\n",
       "      <td>Logistics Regression</td>\n",
       "      <td>0.848889</td>\n",
       "      <td>0.842105</td>\n",
       "    </tr>\n",
       "    <tr>\n",
       "      <th>3</th>\n",
       "      <td>Random Forest</td>\n",
       "      <td>1.000000</td>\n",
       "      <td>0.828947</td>\n",
       "    </tr>\n",
       "    <tr>\n",
       "      <th>2</th>\n",
       "      <td>Decision Tree</td>\n",
       "      <td>0.831111</td>\n",
       "      <td>0.697368</td>\n",
       "    </tr>\n",
       "  </tbody>\n",
       "</table>\n",
       "</div>"
      ],
      "text/plain": [
       "                  Model  Traning Accuracy  Test Accuracy\n",
       "1                   SVM          0.857778       0.855263\n",
       "0  Logistics Regression          0.848889       0.842105\n",
       "3         Random Forest          1.000000       0.828947\n",
       "2         Decision Tree          0.831111       0.697368"
      ]
     },
     "execution_count": 41,
     "metadata": {},
     "output_type": "execute_result"
    }
   ],
   "source": [
    "models=pd.DataFrame({'Model':['Logistics Regression','SVM','Decision Tree','Random Forest'],\n",
    "                     'Traning Accuracy':[(lr.score(X_train,y_train)),svm_linear.score(X_train,y_train),gini.score(X_train,y_train),forest.score(X_train,y_train)],\n",
    "                     'Test Accuracy':[(lr.score(X_test,y_test)),svm_linear.score(X_test,y_test),gini.score(X_test,y_test),forest.score(X_test,y_test)]})\n",
    "models.sort_values(by='Test Accuracy', ascending=False)"
   ]
  },
  {
   "cell_type": "markdown",
   "metadata": {},
   "source": [
    "### Best Model for Dataset is Logistic Regression"
   ]
  }
 ],
 "metadata": {
  "kernelspec": {
   "display_name": "Python 3",
   "language": "python",
   "name": "python3"
  },
  "language_info": {
   "codemirror_mode": {
    "name": "ipython",
    "version": 3
   },
   "file_extension": ".py",
   "mimetype": "text/x-python",
   "name": "python",
   "nbconvert_exporter": "python",
   "pygments_lexer": "ipython3",
   "version": "3.8.3"
  }
 },
 "nbformat": 4,
 "nbformat_minor": 4
}
